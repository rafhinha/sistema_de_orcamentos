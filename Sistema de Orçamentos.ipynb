{
 "cells": [
  {
   "cell_type": "markdown",
   "id": "67d179e4",
   "metadata": {},
   "source": [
    "# Sistema de Orçamentos"
   ]
  },
  {
   "cell_type": "markdown",
   "id": "bd41acec",
   "metadata": {},
   "source": [
    "## Mostrando dados para o usuário"
   ]
  },
  {
   "cell_type": "code",
   "execution_count": 2,
   "id": "d4fbea56",
   "metadata": {},
   "outputs": [
    {
     "name": "stdout",
     "output_type": "stream",
     "text": [
      "Orçamento gerado com sucesso\n",
      "Imersão Semana do Paython na Prática\n",
      "Eu vou aprender a programar em Python, custe o que custar\n"
     ]
    }
   ],
   "source": [
    "print(\"Orçamento gerado com sucesso\")\n",
    "print(\"Imersão Semana do Paython na Prática\")\n",
    "print(\"Eu vou aprender a programar em Python, custe o que custar\")"
   ]
  },
  {
   "cell_type": "markdown",
   "id": "d2f9ff50",
   "metadata": {},
   "source": [
    "## Entrada de dados do usuário"
   ]
  },
  {
   "cell_type": "code",
   "execution_count": 8,
   "id": "85b0f99c",
   "metadata": {},
   "outputs": [
    {
     "name": "stdout",
     "output_type": "stream",
     "text": [
      "Digite a descrição do projeto: Desenvolvimento Python\n",
      "Digite a quantidade de horas previstas: 200\n",
      "Digite o valor da hora trabalhada: 150\n",
      "Digite o prazo: 3 meses\n"
     ]
    },
    {
     "data": {
      "text/plain": [
       "'3 meses'"
      ]
     },
     "execution_count": 8,
     "metadata": {},
     "output_type": "execute_result"
    }
   ],
   "source": [
    "input(\"Digite a descrição do projeto: \")\n",
    "input(\"Digite a quantidade de horas previstas: \")\n",
    "input(\"Digite o valor da hora trabalhada: \")\n",
    "input(\"Digite o prazo: \")"
   ]
  },
  {
   "cell_type": "markdown",
   "id": "7da26d07",
   "metadata": {},
   "source": [
    "## Armazenando dados com variáveis\n",
    "- tem que fazer sentido\n",
    "- não pode começar com números\n",
    "- não pode ter ESPAÇOS\n",
    "- não pode ser uma palavra reservada (comandos do Python)"
   ]
  },
  {
   "cell_type": "code",
   "execution_count": 13,
   "id": "1c34c932",
   "metadata": {},
   "outputs": [
    {
     "name": "stdout",
     "output_type": "stream",
     "text": [
      "Digite a descrição do projeto: Desenvolvimento Python\n",
      "Digite a quantidade de horas previstas: 300\n",
      "Digite o valor da hora trabalha: 200\n",
      "Digite o prazo: 5 meses\n"
     ]
    }
   ],
   "source": [
    "projeto = input(\"Digite a descrição do projeto: \")\n",
    "horas_previstas = input(\"Digite a quantidade de horas previstas: \")\n",
    "valor_hora = input(\"Digite o valor da hora trabalha: \")\n",
    "prazo = input(\"Digite o prazo: \")"
   ]
  },
  {
   "cell_type": "markdown",
   "id": "f18f7bf8",
   "metadata": {},
   "source": [
    "## Calculando o valor total do projeto\n",
    "- quantidade de horas previstas * valor da hora trabalhada"
   ]
  },
  {
   "cell_type": "code",
   "execution_count": 21,
   "id": "2e6fa06d",
   "metadata": {},
   "outputs": [],
   "source": [
    "valor_total = int(horas_previstas) * int(valor_hora)"
   ]
  },
  {
   "cell_type": "markdown",
   "id": "3f58ac2e",
   "metadata": {},
   "source": [
    "### Tipos de dados\n",
    "- textuais - str\n",
    "- numéricos - int\n"
   ]
  },
  {
   "cell_type": "markdown",
   "id": "f0a9fc98",
   "metadata": {},
   "source": [
    "### Conversão de tipos\n",
    "- para texto - str()\n",
    "- para número inteiro - int()\n"
   ]
  },
  {
   "cell_type": "markdown",
   "id": "88e27a4a",
   "metadata": {},
   "source": [
    "## Gerando o PDF do Projeto"
   ]
  },
  {
   "cell_type": "code",
   "execution_count": 24,
   "id": "fe4f3b32",
   "metadata": {},
   "outputs": [
    {
     "name": "stdout",
     "output_type": "stream",
     "text": [
      "Collecting f\n",
      "  Downloading f-0.0.1-py2.py3-none-any.whl (10 kB)\n",
      "Requirement already satisfied: Six in f:\\anaconda3\\lib\\site-packages (from f) (1.16.0)\n",
      "Installing collected packages: f\n",
      "Successfully installed f-0.0.1\n"
     ]
    }
   ],
   "source": [
    "%pip install f"
   ]
  },
  {
   "cell_type": "code",
   "execution_count": 25,
   "id": "911d9ac1",
   "metadata": {},
   "outputs": [],
   "source": [
    "from fpdf import FPDF"
   ]
  },
  {
   "cell_type": "code",
   "execution_count": 34,
   "id": "2f11be92",
   "metadata": {},
   "outputs": [
    {
     "name": "stdout",
     "output_type": "stream",
     "text": [
      "Orçamento gerado com sucesso!\n"
     ]
    }
   ],
   "source": [
    "pdf = FPDF()\n",
    "\n",
    "pdf.add_page()\n",
    "pdf.set_font(\"Arial\")\n",
    "pdf.image(\"template.png\", x=0, y=0)\n",
    "\n",
    "pdf.text(115, 145, projeto)\n",
    "pdf.text(115, 160, horas_previstas)\n",
    "pdf.text(115, 175, valor_hora)\n",
    "pdf.text(115, 190, prazo)\n",
    "pdf.text(115, 205, str(valor_total))\n",
    "\n",
    "pdf.output(\"Orçamento.pdf\")\n",
    "print(\"Orçamento gerado com sucesso!\")"
   ]
  }
 ],
 "metadata": {
  "kernelspec": {
   "display_name": "Python 3 (ipykernel)",
   "language": "python",
   "name": "python3"
  },
  "language_info": {
   "codemirror_mode": {
    "name": "ipython",
    "version": 3
   },
   "file_extension": ".py",
   "mimetype": "text/x-python",
   "name": "python",
   "nbconvert_exporter": "python",
   "pygments_lexer": "ipython3",
   "version": "3.11.4"
  }
 },
 "nbformat": 4,
 "nbformat_minor": 5
}
